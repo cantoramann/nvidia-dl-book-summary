{
 "cells": [
  {
   "cell_type": "code",
   "execution_count": null,
   "metadata": {},
   "outputs": [],
   "source": [
    "import tensorflow as tf\n",
    "from tensorflow import keras\n",
    "from tensorflow.keras.models import Sequential\n",
    "from tensorflow.keras.layers import Dense\n",
    "# from tensorflow.keras.regularizers import l2\n",
    "from tensorflow.keras.layers import Dropout\n",
    "import numpy as np\n",
    "import logging\n",
    "tf.get_logger().setLevel(logging.ERROR)\n",
    "\n",
    "EPOCHS = 500\n",
    "BATCH_SIZE = 16\n",
    "\n",
    "dataset = keras.datasets.boston_housing\n",
    "(raw_x_train, y_train), (raw_x_test, y_test) = dataset.load_data()\n",
    "x_mean = np.mean(raw_x_train, axis=0)\n",
    "x_stddev = np.std(raw_x_train, axis=0)\n",
    "x_train = (raw_x_train - x_mean) / x_stddev\n",
    "x_test = (raw_x_test - x_mean) / x_stddev\n",
    "\n",
    "# Create and train model\n",
    "model = Sequential()\n",
    "model.add(Dense(128, activation='relu', input_shape=[13]))\n",
    "model.add(Dropout(0.3))\n",
    "model.add(Dense(128, activation='relu'))\n",
    "model.add(Dropout(0.3))\n",
    "model.add(Dense(64, activation='relu'))\n",
    "model.add(Dropout(0.3))\n",
    "model.add(Dense(1, activation='linear'))\n",
    "model.compile(loss='mean_squared_error', optimizer='adam', metrics=['mean_absolute_error'])\n",
    "model.summary()\n",
    "\n",
    "history = model.fit(x_train, y_train, validation_data=(x_test, y_test),\n",
    "                    epochs=EPOCHS, batch_size=BATCH_SIZE, verbose=2, shuffle=True)\n",
    "\n",
    "predictions = model.predict(x_test)\n",
    "for i in range(0, 4):\n",
    "  print(\"Prediction: \", predictions[i], ', true value: ', y_test[i])"
   ]
  },
  {
   "cell_type": "code",
   "execution_count": null,
   "metadata": {},
   "outputs": [],
   "source": [
    "# Just to see\n",
    "predictions = model.predict(x_train)\n",
    "for i in range(0, 4):\n",
    "  print(\"Prediction: \", predictions[i], ', true value: ', y_train[i])"
   ]
  }
 ],
 "metadata": {
  "language_info": {
   "name": "python"
  }
 },
 "nbformat": 4,
 "nbformat_minor": 2
}
